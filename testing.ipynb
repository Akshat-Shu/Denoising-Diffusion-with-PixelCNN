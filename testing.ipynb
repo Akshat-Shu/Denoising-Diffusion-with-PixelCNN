{
 "cells": [
  {
   "cell_type": "code",
   "execution_count": 9,
   "id": "b5e1d3e8",
   "metadata": {},
   "outputs": [],
   "source": [
    "from PixelCNN.gated_cnn import MaskedCNN\n",
    "from PixelCNN.model import PixelCNN\n",
    "import torch\n",
    "from Diffusion.diffusion_model import DiffusionModel\n",
    "import matplotlib.pyplot as plt"
   ]
  },
  {
   "cell_type": "code",
   "execution_count": 8,
   "id": "118d1148",
   "metadata": {},
   "outputs": [
    {
     "data": {
      "text/plain": [
       "<module 'PixelCNN.gated_cnn' from 'd:\\\\Programming\\\\LearnPy\\\\Cars_Diffusion\\\\PixelCNN\\\\gated_cnn.py'>"
      ]
     },
     "execution_count": 8,
     "metadata": {},
     "output_type": "execute_result"
    }
   ],
   "source": [
    "from importlib import reload\n",
    "import PixelCNN.gated_cnn\n",
    "\n",
    "import PixelCNN.kernel_filter\n",
    "reload(PixelCNN.kernel_filter)\n",
    "\n",
    "reload(PixelCNN.gated_cnn)"
   ]
  },
  {
   "cell_type": "code",
   "execution_count": null,
   "id": "9bcbae52",
   "metadata": {},
   "outputs": [],
   "source": []
  },
  {
   "cell_type": "code",
   "execution_count": 89,
   "id": "da032c50",
   "metadata": {},
   "outputs": [
    {
     "data": {
      "text/plain": [
       "<matplotlib.image.AxesImage at 0x12b8e2b3b00>"
      ]
     },
     "execution_count": 89,
     "metadata": {},
     "output_type": "execute_result"
    },
    {
     "data": {
      "image/png": "[encoded data removed]",
      "text/plain": [
       "<Figure size 640x480 with 1 Axes>"
      ]
     },
     "metadata": {},
     "output_type": "display_data"
    }
   ],
   "source": [
    "img = torch.randint_like(torch.zeros(1,4,4), 0, 256)\n",
    "plt.imshow(img.permute(1,2,0).type(torch.uint8))"
   ]
  },
  {
   "cell_type": "code",
   "execution_count": 94,
   "id": "9f7a884b",
   "metadata": {},
   "outputs": [],
   "source": [
    "masked_cnn = MaskedCNN(1, 1)"
   ]
  },
  {
   "cell_type": "code",
   "execution_count": 96,
   "id": "cdd38f0c",
   "metadata": {},
   "outputs": [
    {
     "data": {
      "text/plain": [
       "<matplotlib.image.AxesImage at 0x12b8e512510>"
      ]
     },
     "execution_count": 96,
     "metadata": {},
     "output_type": "execute_result"
    },
    {
     "data": {
      "image/png": "[encoded data removed]",
      "text/plain": [
       "<Figure size 640x480 with 1 Axes>"
      ]
     },
     "metadata": {},
     "output_type": "display_data"
    }
   ],
   "source": [
    "masked_cnn.eval()\n",
    "\n",
    "output = None\n",
    "with torch.no_grad():\n",
    "    output = masked_cnn(img.unsqueeze(0))\n",
    "\n",
    "plt.imshow(output.squeeze(0).permute(1,2,0).type(torch.uint8))"
   ]
  },
  {
   "cell_type": "code",
   "execution_count": null,
   "id": "9e783502",
   "metadata": {},
   "outputs": [
    {
     "name": "stdout",
     "output_type": "stream",
     "text": [
      "tensor([[[[1.]],\n",
      "\n",
      "         [[0.]],\n",
      "\n",
      "         [[0.]]],\n",
      "\n",
      "\n",
      "        [[[1.]],\n",
      "\n",
      "         [[0.]],\n",
      "\n",
      "         [[0.]]],\n",
      "\n",
      "\n",
      "        [[[1.]],\n",
      "\n",
      "         [[1.]],\n",
      "\n",
      "         [[0.]]],\n",
      "\n",
      "\n",
      "        [[[1.]],\n",
      "\n",
      "         [[1.]],\n",
      "\n",
      "         [[0.]]],\n",
      "\n",
      "\n",
      "        [[[1.]],\n",
      "\n",
      "         [[1.]],\n",
      "\n",
      "         [[1.]]],\n",
      "\n",
      "\n",
      "        [[[1.]],\n",
      "\n",
      "         [[1.]],\n",
      "\n",
      "         [[1.]]]])\n"
     ]
    },
    {
     "data": {
      "text/plain": [
       "torch.Size([6, 3, 1, 1])"
      ]
     },
     "execution_count": 31,
     "metadata": {},
     "output_type": "execute_result"
    }
   ],
   "source": [
    "from PixelCNN.kernel_filter import kernel_filter\n",
    "\n",
    "f = kernel_filter(\n",
    "    1, 1, 6, 3, data_channels=3, first_layer=False, horizontal=False\n",
    ")\n",
    "print(f)\n",
    "\n",
    "f.shape"
   ]
  },
  {
   "cell_type": "code",
   "execution_count": 27,
   "id": "47fdf9a6",
   "metadata": {},
   "outputs": [],
   "source": [
    "\n",
    "import numpy as np\n",
    "import torch\n",
    "\n",
    "out_channels = 6\n",
    "in_channels = 3\n",
    "data_channels = 3\n",
    "mask_type = 'A'  # 'A' or 'B'\n",
    "\n",
    "weight = np.random.randn(out_channels, in_channels, 1, 1)\n",
    "\n",
    "xc, yc = 0, 0\n",
    "\n",
    "\n",
    "\n",
    "mask = np.zeros(weight.shape, dtype=np.float32)\n",
    "mask[:, :, :yc, :] = 1\n",
    "mask[:, :, yc, :xc + 1] = 1\n",
    "\n",
    "def cmask(out_c, in_c):\n",
    "    a = (np.arange(out_channels) % data_channels == out_c)[:, None]\n",
    "    b = (np.arange(in_channels) % data_channels == in_c)[None, :]\n",
    "    return a * b\n",
    "\n",
    "for o in range(data_channels):\n",
    "    for i in range(o + 1, data_channels):\n",
    "        mask[cmask(o, i), yc, xc] = 0\n",
    "\n",
    "if mask_type == 'A':\n",
    "    for c in range(data_channels):\n",
    "        mask[cmask(c, c), yc, xc] = 0\n",
    "\n",
    "mask = torch.from_numpy(mask).float()"
   ]
  },
  {
   "cell_type": "code",
   "execution_count": 28,
   "id": "370472fc",
   "metadata": {},
   "outputs": [
    {
     "data": {
      "text/plain": [
       "tensor([[[[0.]],\n",
       "\n",
       "         [[0.]],\n",
       "\n",
       "         [[0.]]],\n",
       "\n",
       "\n",
       "        [[[1.]],\n",
       "\n",
       "         [[0.]],\n",
       "\n",
       "         [[0.]]],\n",
       "\n",
       "\n",
       "        [[[1.]],\n",
       "\n",
       "         [[1.]],\n",
       "\n",
       "         [[0.]]],\n",
       "\n",
       "\n",
       "        [[[0.]],\n",
       "\n",
       "         [[0.]],\n",
       "\n",
       "         [[0.]]],\n",
       "\n",
       "\n",
       "        [[[1.]],\n",
       "\n",
       "         [[0.]],\n",
       "\n",
       "         [[0.]]],\n",
       "\n",
       "\n",
       "        [[[1.]],\n",
       "\n",
       "         [[1.]],\n",
       "\n",
       "         [[0.]]]])"
      ]
     },
     "execution_count": 28,
     "metadata": {},
     "output_type": "execute_result"
    }
   ],
   "source": [
    "mask"
   ]
  },
  {
   "cell_type": "code",
   "execution_count": 33,
   "id": "7b5005a5",
   "metadata": {},
   "outputs": [
    {
     "name": "stdout",
     "output_type": "stream",
     "text": [
      "Defaulting to user installation because normal site-packages is not writeable\n",
      "Collecting torchinfo\n",
      "  Downloading torchinfo-1.8.0-py3-none-any.whl.metadata (21 kB)\n",
      "Downloading torchinfo-1.8.0-py3-none-any.whl (23 kB)\n",
      "Installing collected packages: torchinfo\n",
      "Successfully installed torchinfo-1.8.0\n"
     ]
    }
   ],
   "source": [
    "!pip install torchinfo --break-system-packages"
   ]
  },
  {
   "cell_type": "code",
   "execution_count": null,
   "id": "feeaded4",
   "metadata": {},
   "outputs": [
    {
     "data": {
      "text/plain": [
       "<module 'UNetModel.config' from '/mnt/d/Programming/LearnPy/Cars_Diffusion/UNetModel/config.py'>"
      ]
     },
     "execution_count": 149,
     "metadata": {},
     "output_type": "execute_result"
    }
   ],
   "source": [
    "import PixelCNN.gated_cnn\n",
    "reload(PixelCNN.gated_cnn)\n",
    "\n",
    "import PixelCNN.model\n",
    "reload(PixelCNN.model)\n",
    "\n",
    "import PixelCNN.config\n",
    "reload(PixelCNN.config)\n"
   ]
  },
  {
   "cell_type": "code",
   "execution_count": 3,
   "id": "e74f7a3c",
   "metadata": {},
   "outputs": [],
   "source": [
    "from PixelCNN.model import PixelCNN\n",
    "from torchinfo import summary\n",
    "from PixelCNN.config import Config\n",
    "\n",
    "cfg = Config()\n",
    "\n",
    "model = PixelCNN(cfg)"
   ]
  },
  {
   "cell_type": "code",
   "execution_count": 10,
   "id": "adbc01be",
   "metadata": {},
   "outputs": [],
   "source": [
    "images = torch.rand(2, 3, 32, 32)\n",
    "labels = torch.ones(2, dtype=torch.long)\n",
    "time = torch.ones(2, dtype=torch.long)"
   ]
  },
  {
   "cell_type": "code",
   "execution_count": 19,
   "id": "f46ca3bb",
   "metadata": {},
   "outputs": [
    {
     "data": {
      "text/plain": [
       "<module 'PixelCNN.gated_cnn' from 'd:\\\\Programming\\\\LearnPy\\\\Cars_Diffusion\\\\PixelCNN\\\\gated_cnn.py'>"
      ]
     },
     "execution_count": 19,
     "metadata": {},
     "output_type": "execute_result"
    }
   ],
   "source": [
    "import PixelCNN.model\n",
    "reload(PixelCNN.model)\n",
    "\n",
    "import PixelCNN.gated_cnn\n",
    "reload(PixelCNN.gated_cnn)"
   ]
  },
  {
   "cell_type": "code",
   "execution_count": 20,
   "id": "bbc45932",
   "metadata": {},
   "outputs": [
    {
     "data": {
      "text/plain": [
       "==========================================================================================\n",
       "Layer (type:depth-idx)                   Output Shape              Param #\n",
       "==========================================================================================\n",
       "GatedCNNBlock                            [2, 6, 32, 32]            --\n",
       "├─MaskedCNN: 1-1                         [2, 12, 32, 32]           336\n",
       "├─MaskedCNN: 1-2                         [2, 12, 32, 32]           156\n",
       "├─MaskedCNN: 1-3                         [2, 12, 32, 32]           120\n",
       "├─MaskedCNN: 1-4                         [2, 6, 32, 32]            42\n",
       "==========================================================================================\n",
       "Total params: 654\n",
       "Trainable params: 654\n",
       "Non-trainable params: 0\n",
       "Total mult-adds (Units.MEGABYTES): 0\n",
       "==========================================================================================\n",
       "Input size (MB): 0.10\n",
       "Forward/backward pass size (MB): 0.69\n",
       "Params size (MB): 0.00\n",
       "Estimated Total Size (MB): 0.79\n",
       "=========================================================================================="
      ]
     },
     "execution_count": 20,
     "metadata": {},
     "output_type": "execute_result"
    }
   ],
   "source": [
    "from PixelCNN.gated_cnn import GatedCNNBlock\n",
    "\n",
    "# io = GatedCNNIO(v=images, h=images, label=labels, skip=None)\n",
    "\n",
    "masked_cnn = GatedCNNBlock(\n",
    "    3, 6, 3, 3, first_layer=True\n",
    ")\n",
    "masked_cnn.eval()\n",
    "skip = torch.rand(2, 6, 32, 32)\n",
    "summary(masked_cnn, input_data={'x': (images, images, skip, labels, time)}, device='cpu')"
   ]
  },
  {
   "cell_type": "code",
   "execution_count": null,
   "id": "e4c404eb",
   "metadata": {},
   "outputs": [
    {
     "data": {
      "text/plain": [
       "==========================================================================================\n",
       "Layer (type:depth-idx)                   Output Shape              Param #\n",
       "==========================================================================================\n",
       "GatedCNNBlock                            [2, 192, 32, 32]          --\n",
       "├─MaskedCNN: 1-1                         [2, 384, 32, 32]          56,832\n",
       "├─MaskedCNN: 1-2                         [2, 384, 32, 32]          147,840\n",
       "├─MaskedCNN: 1-3                         [2, 384, 32, 32]          8,448\n",
       "├─MaskedCNN: 1-4                         [2, 192, 32, 32]          37,056\n",
       "==========================================================================================\n",
       "Total params: 250,176\n",
       "Trainable params: 250,176\n",
       "Non-trainable params: 0\n",
       "Total mult-adds (Units.MEGABYTES): 0\n",
       "==========================================================================================\n",
       "Input size (MB): 0.05\n",
       "Forward/backward pass size (MB): 22.02\n",
       "Params size (MB): 1.00\n",
       "Estimated Total Size (MB): 23.07\n",
       "=========================================================================================="
      ]
     },
     "execution_count": 21,
     "metadata": {},
     "output_type": "execute_result"
    }
   ],
   "source": [
    "images = torch.rand(2, cfg.hidden_channels, 32, 32)\n",
    "io = (images, images, torch.tensor(0), labels, time)\n",
    "\n",
    "first_layer = GatedCNNBlock(\n",
    "    in_channels=cfg.num_channels,\n",
    "    out_channels=cfg.hidden_channels,\n",
    "    kernel_height=7, kernel_width=7,\n",
    "    first_layer=True, residual=False,\n",
    "    blinded=False\n",
    ")\n",
    "\n",
    "summary(first_layer, input_data=[io], device='cpu')"
   ]
  },
  {
   "cell_type": "code",
   "execution_count": 151,
   "id": "f237cd81",
   "metadata": {},
   "outputs": [
    {
     "name": "stdout",
     "output_type": "stream",
     "text": [
      "skip shape torch.Size([2, 192, 32, 32])\n",
      "label embedding shape torch.Size([2, 192, 1, 1])\n"
     ]
    },
    {
     "data": {
      "text/plain": [
       "==========================================================================================\n",
       "Layer (type:depth-idx)                   Output Shape              Param #\n",
       "==========================================================================================\n",
       "PixelCNN                                 [2, 768, 32, 32]          --\n",
       "├─GatedCNNBlock: 1-1                     [2, 192, 32, 32]          --\n",
       "│    └─MaskedCNN: 2-1                    [2, 384, 32, 32]          56,832\n",
       "│    └─MaskedCNN: 2-2                    [2, 384, 32, 32]          147,840\n",
       "│    └─MaskedCNN: 2-3                    [2, 384, 32, 32]          8,448\n",
       "│    └─MaskedCNN: 2-4                    [2, 192, 32, 32]          37,056\n",
       "├─ModuleList: 1-2                        --                        --\n",
       "│    └─GatedCNNBlock: 2-5                [2, 192, 32, 32]          --\n",
       "│    │    └─MaskedCNN: 3-1               [2, 384, 32, 32]          663,936\n",
       "│    │    └─MaskedCNN: 3-2               [2, 384, 32, 32]          147,840\n",
       "│    │    └─MaskedCNN: 3-3               [2, 384, 32, 32]          221,568\n",
       "│    │    └─Embedding: 3-4               [2, 384]                  2,688\n",
       "│    │    └─MaskedCNN: 3-5               [2, 192, 32, 32]          37,056\n",
       "│    │    └─MaskedCNN: 3-6               [2, 192, 32, 32]          37,056\n",
       "│    └─GatedCNNBlock: 2-6                [2, 192, 32, 32]          --\n",
       "│    │    └─MaskedCNN: 3-7               [2, 384, 32, 32]          663,936\n",
       "│    │    └─MaskedCNN: 3-8               [2, 384, 32, 32]          147,840\n",
       "│    │    └─MaskedCNN: 3-9               [2, 384, 32, 32]          221,568\n",
       "│    │    └─Embedding: 3-10              [2, 384]                  2,688\n",
       "│    │    └─MaskedCNN: 3-11              [2, 192, 32, 32]          37,056\n",
       "│    │    └─MaskedCNN: 3-12              [2, 192, 32, 32]          37,056\n",
       "│    └─GatedCNNBlock: 2-7                [2, 192, 32, 32]          --\n",
       "│    │    └─MaskedCNN: 3-13              [2, 384, 32, 32]          663,936\n",
       "│    │    └─MaskedCNN: 3-14              [2, 384, 32, 32]          147,840\n",
       "│    │    └─MaskedCNN: 3-15              [2, 384, 32, 32]          221,568\n",
       "│    │    └─Embedding: 3-16              [2, 384]                  2,688\n",
       "│    │    └─MaskedCNN: 3-17              [2, 192, 32, 32]          37,056\n",
       "│    │    └─MaskedCNN: 3-18              [2, 192, 32, 32]          37,056\n",
       "│    └─GatedCNNBlock: 2-8                [2, 192, 32, 32]          --\n",
       "│    │    └─MaskedCNN: 3-19              [2, 384, 32, 32]          663,936\n",
       "│    │    └─MaskedCNN: 3-20              [2, 384, 32, 32]          147,840\n",
       "│    │    └─MaskedCNN: 3-21              [2, 384, 32, 32]          221,568\n",
       "│    │    └─Embedding: 3-22              [2, 384]                  2,688\n",
       "│    │    └─MaskedCNN: 3-23              [2, 192, 32, 32]          37,056\n",
       "│    │    └─MaskedCNN: 3-24              [2, 192, 32, 32]          37,056\n",
       "│    └─GatedCNNBlock: 2-9                [2, 192, 32, 32]          --\n",
       "│    │    └─MaskedCNN: 3-25              [2, 384, 32, 32]          663,936\n",
       "│    │    └─MaskedCNN: 3-26              [2, 384, 32, 32]          147,840\n",
       "│    │    └─MaskedCNN: 3-27              [2, 384, 32, 32]          221,568\n",
       "│    │    └─Embedding: 3-28              [2, 384]                  2,688\n",
       "│    │    └─MaskedCNN: 3-29              [2, 192, 32, 32]          37,056\n",
       "│    │    └─MaskedCNN: 3-30              [2, 192, 32, 32]          37,056\n",
       "│    └─GatedCNNBlock: 2-10               [2, 192, 32, 32]          --\n",
       "│    │    └─MaskedCNN: 3-31              [2, 384, 32, 32]          663,936\n",
       "│    │    └─MaskedCNN: 3-32              [2, 384, 32, 32]          147,840\n",
       "│    │    └─MaskedCNN: 3-33              [2, 384, 32, 32]          221,568\n",
       "│    │    └─Embedding: 3-34              [2, 384]                  2,688\n",
       "│    │    └─MaskedCNN: 3-35              [2, 192, 32, 32]          37,056\n",
       "│    │    └─MaskedCNN: 3-36              [2, 192, 32, 32]          37,056\n",
       "│    └─GatedCNNBlock: 2-11               [2, 192, 32, 32]          --\n",
       "│    │    └─MaskedCNN: 3-37              [2, 384, 32, 32]          663,936\n",
       "│    │    └─MaskedCNN: 3-38              [2, 384, 32, 32]          147,840\n",
       "│    │    └─MaskedCNN: 3-39              [2, 384, 32, 32]          221,568\n",
       "│    │    └─Embedding: 3-40              [2, 384]                  2,688\n",
       "│    │    └─MaskedCNN: 3-41              [2, 192, 32, 32]          37,056\n",
       "│    │    └─MaskedCNN: 3-42              [2, 192, 32, 32]          37,056\n",
       "│    └─GatedCNNBlock: 2-12               [2, 192, 32, 32]          --\n",
       "│    │    └─MaskedCNN: 3-43              [2, 384, 32, 32]          663,936\n",
       "│    │    └─MaskedCNN: 3-44              [2, 384, 32, 32]          147,840\n",
       "│    │    └─MaskedCNN: 3-45              [2, 384, 32, 32]          221,568\n",
       "│    │    └─Embedding: 3-46              [2, 384]                  2,688\n",
       "│    │    └─MaskedCNN: 3-47              [2, 192, 32, 32]          37,056\n",
       "│    │    └─MaskedCNN: 3-48              [2, 192, 32, 32]          37,056\n",
       "│    └─GatedCNNBlock: 2-13               [2, 192, 32, 32]          --\n",
       "│    │    └─MaskedCNN: 3-49              [2, 384, 32, 32]          663,936\n",
       "│    │    └─MaskedCNN: 3-50              [2, 384, 32, 32]          147,840\n",
       "│    │    └─MaskedCNN: 3-51              [2, 384, 32, 32]          221,568\n",
       "│    │    └─Embedding: 3-52              [2, 384]                  2,688\n",
       "│    │    └─MaskedCNN: 3-53              [2, 192, 32, 32]          37,056\n",
       "│    │    └─MaskedCNN: 3-54              [2, 192, 32, 32]          37,056\n",
       "│    └─GatedCNNBlock: 2-14               [2, 192, 32, 32]          --\n",
       "│    │    └─MaskedCNN: 3-55              [2, 384, 32, 32]          663,936\n",
       "│    │    └─MaskedCNN: 3-56              [2, 384, 32, 32]          147,840\n",
       "│    │    └─MaskedCNN: 3-57              [2, 384, 32, 32]          221,568\n",
       "│    │    └─Embedding: 3-58              [2, 384]                  2,688\n",
       "│    │    └─MaskedCNN: 3-59              [2, 192, 32, 32]          37,056\n",
       "│    │    └─MaskedCNN: 3-60              [2, 192, 32, 32]          37,056\n",
       "│    └─GatedCNNBlock: 2-15               [2, 192, 32, 32]          --\n",
       "│    │    └─MaskedCNN: 3-61              [2, 384, 32, 32]          663,936\n",
       "│    │    └─MaskedCNN: 3-62              [2, 384, 32, 32]          147,840\n",
       "│    │    └─MaskedCNN: 3-63              [2, 384, 32, 32]          221,568\n",
       "│    │    └─Embedding: 3-64              [2, 384]                  2,688\n",
       "│    │    └─MaskedCNN: 3-65              [2, 192, 32, 32]          37,056\n",
       "│    │    └─MaskedCNN: 3-66              [2, 192, 32, 32]          37,056\n",
       "│    └─GatedCNNBlock: 2-16               [2, 192, 32, 32]          --\n",
       "│    │    └─MaskedCNN: 3-67              [2, 384, 32, 32]          663,936\n",
       "│    │    └─MaskedCNN: 3-68              [2, 384, 32, 32]          147,840\n",
       "│    │    └─MaskedCNN: 3-69              [2, 384, 32, 32]          221,568\n",
       "│    │    └─Embedding: 3-70              [2, 384]                  2,688\n",
       "│    │    └─MaskedCNN: 3-71              [2, 192, 32, 32]          37,056\n",
       "│    │    └─MaskedCNN: 3-72              [2, 192, 32, 32]          37,056\n",
       "├─Embedding: 1-3                         [2, 192]                  1,344\n",
       "├─ReLU: 1-4                              [2, 192, 32, 32]          --\n",
       "├─MaskedCNN: 1-5                         [2, 3072, 32, 32]         592,896\n",
       "├─ReLU: 1-6                              [2, 3072, 32, 32]         --\n",
       "├─MaskedCNN: 1-7                         [2, 768, 32, 32]          2,360,064\n",
       "==========================================================================================\n",
       "Total params: 16,526,208\n",
       "Trainable params: 16,526,208\n",
       "Non-trainable params: 0\n",
       "Total mult-adds (Units.MEGABYTES): 0.07\n",
       "==========================================================================================\n",
       "Input size (MB): 0.02\n",
       "Forward/backward pass size (MB): 387.00\n",
       "Params size (MB): 66.10\n",
       "Estimated Total Size (MB): 453.13\n",
       "=========================================================================================="
      ]
     },
     "execution_count": 151,
     "metadata": {},
     "output_type": "execute_result"
    }
   ],
   "source": [
    "summary(model, input_data=[(images, labels)])"
   ]
  }
 ],
 "metadata": {
  "kernelspec": {
   "display_name": "Python 3",
   "language": "python",
   "name": "python3"
  },
  "language_info": {
   "codemirror_mode": {
    "name": "ipython",
    "version": 3
   },
   "file_extension": ".py",
   "mimetype": "text/x-python",
   "name": "python",
   "nbconvert_exporter": "python",
   "pygments_lexer": "ipython3",
   "version": "3.12.10"
  }
 },
 "nbformat": 4,
 "nbformat_minor": 5
}
